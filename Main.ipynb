{
 "cells": [
  {
   "cell_type": "code",
   "execution_count": 1,
   "metadata": {},
   "outputs": [],
   "source": [
    "import project"
   ]
  },
  {
   "cell_type": "code",
   "execution_count": 2,
   "metadata": {},
   "outputs": [],
   "source": [
    "def get_month(date):\n",
    "    '''Returns the month when the date is the in the 'mm/dd/yyyy' format'''\n",
    "    return int(date[:2])\n",
    "\n",
    "def get_day(date):\n",
    "    '''Returns the day when the date is the in the 'mm/dd/yyyy' format'''\n",
    "    return int(date[3:5])\n",
    "\n",
    "\n",
    "def get_year(date):\n",
    "    '''Returns the year when the date is the in the 'mm/dd/yyyy' format'''\n",
    "    return int(date[-4:])"
   ]
  },
  {
   "cell_type": "code",
   "execution_count": 3,
   "metadata": {},
   "outputs": [
    {
     "data": {
      "text/plain": [
       "132"
      ]
     },
     "execution_count": 3,
     "metadata": {},
     "output_type": "execute_result"
    }
   ],
   "source": [
    "#Return the number of hurricanes in our data\n",
    "project.count()"
   ]
  },
  {
   "cell_type": "code",
   "execution_count": 4,
   "metadata": {},
   "outputs": [
    {
     "data": {
      "text/plain": [
       "'Carol'"
      ]
     },
     "execution_count": 4,
     "metadata": {},
     "output_type": "execute_result"
    }
   ],
   "source": [
    "#Getting the name of hurricane at index 10\n",
    "project.get_name(10)"
   ]
  },
  {
   "cell_type": "code",
   "execution_count": 5,
   "metadata": {},
   "outputs": [
    {
     "data": {
      "text/plain": [
       "1"
      ]
     },
     "execution_count": 5,
     "metadata": {},
     "output_type": "execute_result"
    }
   ],
   "source": [
    "#Getting the number of deaths for hurricane at end of data\n",
    "project.get_deaths(-1)"
   ]
  },
  {
   "cell_type": "code",
   "execution_count": 6,
   "metadata": {},
   "outputs": [
    {
     "data": {
      "text/plain": [
       "True"
      ]
     },
     "execution_count": 6,
     "metadata": {},
     "output_type": "execute_result"
    }
   ],
   "source": [
    "#Find out if there is a hurricane named Bob in our data\n",
    "y_n = None\n",
    "for i in range(project.count()):\n",
    "    name = project.get_name(i)\n",
    "    if name == 'Bob':\n",
    "        y_n = True\n",
    "        break\n",
    "    elif i == project.count()-1 and name != 'Bob':\n",
    "        y_n = False\n",
    "y_n"
   ]
  },
  {
   "cell_type": "code",
   "execution_count": 7,
   "metadata": {},
   "outputs": [
    {
     "data": {
      "text/plain": [
       "3"
      ]
     },
     "execution_count": 7,
     "metadata": {},
     "output_type": "execute_result"
    }
   ],
   "source": [
    "#Find how many hurricanes are named 'Florence'\n",
    "count = 0\n",
    "for i in range(project.count()):\n",
    "    name = project.get_name(i)\n",
    "    if name.lower() == 'florence':\n",
    "        count += 1\n",
    "count"
   ]
  },
  {
   "cell_type": "code",
   "execution_count": 8,
   "metadata": {},
   "outputs": [
    {
     "data": {
      "text/plain": [
       "190"
      ]
     },
     "execution_count": 8,
     "metadata": {},
     "output_type": "execute_result"
    }
   ],
   "source": [
    "#Finding the highest wind speeds of a hurricane in data\n",
    "mph_list = []\n",
    "for i in range(project.count()):\n",
    "    mph_list.append(project.get_mph(i))\n",
    "    mph_max = max(mph_list)\n",
    "mph_max"
   ]
  },
  {
   "cell_type": "code",
   "execution_count": 9,
   "metadata": {},
   "outputs": [
    {
     "data": {
      "text/plain": [
       "'Allen'"
      ]
     },
     "execution_count": 9,
     "metadata": {},
     "output_type": "execute_result"
    }
   ],
   "source": [
    "#Name of hurricane with highest wind speed\n",
    "for i in range(project.count()):\n",
    "    if project.get_mph(i) == 190:\n",
    "        fast = project.get_name(i)\n",
    "        break\n",
    "fast"
   ]
  },
  {
   "cell_type": "code",
   "execution_count": 10,
   "metadata": {},
   "outputs": [],
   "source": [
    "#Convert damage string into number\n",
    "def cost(damage):\n",
    "    if damage[-1] == 'K':\n",
    "        return int(float(damage[:-1]) * 1000)\n",
    "    elif damage[-1] == 'M':\n",
    "        return int(float(damage[:-1]) * 1000000)\n",
    "    elif damage[-1] == 'B':\n",
    "        return int(float(damage[:-1]) * 1000000000)"
   ]
  },
  {
   "cell_type": "code",
   "execution_count": 11,
   "metadata": {},
   "outputs": [
    {
     "data": {
      "text/plain": [
       "13500000"
      ]
     },
     "execution_count": 11,
     "metadata": {},
     "output_type": "execute_result"
    }
   ],
   "source": [
    "#Get damage for hurricane Dolphin\n",
    "for i in range(project.count()):\n",
    "    if project.get_name(i) == 'Dolphin':\n",
    "        dam = project.get_damage(i)\n",
    "        total = cost(dam)\n",
    "total"
   ]
  },
  {
   "cell_type": "code",
   "execution_count": 12,
   "metadata": {},
   "outputs": [],
   "source": [
    "#Return index of deadliest hurricane over the given date range\n",
    "def deadliest_in_range(year1, year2):\n",
    "    worst_idx = None\n",
    "    for i in range(project.count()):\n",
    "        year_i = get_year(project.get_formed(i))\n",
    "        if year1 <= year_i <= year2:\n",
    "            if worst_idx == None or project.get_deaths(i) > project.get_deaths(worst_idx):\n",
    "                worst_idx = i\n",
    "    return worst_idx"
   ]
  },
  {
   "cell_type": "code",
   "execution_count": 13,
   "metadata": {},
   "outputs": [
    {
     "data": {
      "text/plain": [
       "18959"
      ]
     },
     "execution_count": 13,
     "metadata": {},
     "output_type": "execute_result"
    }
   ],
   "source": [
    "#Get total number of deaths in the data\n",
    "total_deaths = 0\n",
    "for i in range(project.count()):\n",
    "    dead = project.get_deaths(i)\n",
    "    total_deaths += dead\n",
    "total_deaths"
   ]
  },
  {
   "cell_type": "code",
   "execution_count": 14,
   "metadata": {},
   "outputs": [
    {
     "data": {
      "text/plain": [
       "'Maria'"
      ]
     },
     "execution_count": 14,
     "metadata": {},
     "output_type": "execute_result"
    }
   ],
   "source": [
    "#Deadliest hurricane from 2010 to 2019\n",
    "project.get_name(deadliest_in_range(2010, 2019))"
   ]
  },
  {
   "cell_type": "code",
   "execution_count": 15,
   "metadata": {},
   "outputs": [
    {
     "data": {
      "text/plain": [
       "'Inez'"
      ]
     },
     "execution_count": 15,
     "metadata": {},
     "output_type": "execute_result"
    }
   ],
   "source": [
    "#Deadliest hurricane in the 20th century\n",
    "project.get_name(deadliest_in_range(1901, 2000))"
   ]
  },
  {
   "cell_type": "code",
   "execution_count": 16,
   "metadata": {},
   "outputs": [
    {
     "data": {
      "text/plain": [
       "1899"
      ]
     },
     "execution_count": 16,
     "metadata": {},
     "output_type": "execute_result"
    }
   ],
   "source": [
    "#Year hurricane Inez formed\n",
    "get_year(project.get_formed(deadliest_in_range(0, 2019)))"
   ]
  },
  {
   "cell_type": "code",
   "execution_count": 17,
   "metadata": {},
   "outputs": [
    {
     "data": {
      "text/plain": [
       "226500000"
      ]
     },
     "execution_count": 17,
     "metadata": {},
     "output_type": "execute_result"
    }
   ],
   "source": [
    "#Value of damage done by hurricane Inez\n",
    "cost(project.get_damage(deadliest_in_range(1901, 2000)))"
   ]
  },
  {
   "cell_type": "code",
   "execution_count": 18,
   "metadata": {},
   "outputs": [
    {
     "data": {
      "text/plain": [
       "864230464997"
      ]
     },
     "execution_count": 18,
     "metadata": {},
     "output_type": "execute_result"
    }
   ],
   "source": [
    "#Total damage caused by all hurricanes in dataset\n",
    "total_damage = 0\n",
    "for i in range(project.count()):\n",
    "    damage_i = project.get_damage(i)\n",
    "    converted_cost = cost(damage_i)\n",
    "    total_damage += converted_cost\n",
    "total_damage"
   ]
  },
  {
   "cell_type": "code",
   "execution_count": 19,
   "metadata": {},
   "outputs": [],
   "source": [
    "# return number of huricanes formed in month mm\n",
    "def hurricanes_in_month(mm):\n",
    "    num_of_hurricanes = 0\n",
    "    for i in range(project.count()):\n",
    "        date = get_month(project.get_formed(i))\n",
    "        if date == mm:\n",
    "            num_of_hurricanes += 1\n",
    "    return num_of_hurricanes"
   ]
  },
  {
   "cell_type": "code",
   "execution_count": 20,
   "metadata": {},
   "outputs": [
    {
     "data": {
      "text/plain": [
       "17"
      ]
     },
     "execution_count": 20,
     "metadata": {},
     "output_type": "execute_result"
    }
   ],
   "source": [
    "#Hurricanes formed in July\n",
    "hurricanes_in_month(7)"
   ]
  },
  {
   "cell_type": "code",
   "execution_count": 21,
   "metadata": {},
   "outputs": [
    {
     "data": {
      "text/plain": [
       "3"
      ]
     },
     "execution_count": 21,
     "metadata": {},
     "output_type": "execute_result"
    }
   ],
   "source": [
    "#Hurricanes in December\n",
    "hurricanes_in_month(12)"
   ]
  },
  {
   "cell_type": "code",
   "execution_count": 22,
   "metadata": {},
   "outputs": [
    {
     "data": {
      "text/plain": [
       "3"
      ]
     },
     "execution_count": 22,
     "metadata": {},
     "output_type": "execute_result"
    }
   ],
   "source": [
    "#Hurricanes in January\n",
    "hurricanes_in_month(1)"
   ]
  },
  {
   "cell_type": "code",
   "execution_count": 23,
   "metadata": {},
   "outputs": [
    {
     "data": {
      "text/plain": [
       "2"
      ]
     },
     "execution_count": 23,
     "metadata": {},
     "output_type": "execute_result"
    }
   ],
   "source": [
    "#Hurricanes in May\n",
    "hurricanes_in_month(5)"
   ]
  },
  {
   "cell_type": "code",
   "execution_count": 24,
   "metadata": {},
   "outputs": [
    {
     "data": {
      "text/plain": [
       "9"
      ]
     },
     "execution_count": 24,
     "metadata": {},
     "output_type": "execute_result"
    }
   ],
   "source": [
    "#Month that had the most hurricanes formed\n",
    "greatest_num_hurricanes = 0\n",
    "for i in range(1, 13):\n",
    "    if hurricanes_in_month(i) > hurricanes_in_month(i-1):\n",
    "        greatest_num_hurricanes = i\n",
    "greatest_num_hurricanes"
   ]
  },
  {
   "cell_type": "code",
   "execution_count": 25,
   "metadata": {},
   "outputs": [],
   "source": [
    "#Returns the number of hurricanes formed in a year\n",
    "def hurricanes_in_year(year):\n",
    "    num_of_hurricanes = 0\n",
    "    for i in range(project.count()):\n",
    "        date = get_year(project.get_formed(i))\n",
    "        if date == year:\n",
    "            num_of_hurricanes += 1\n",
    "    return num_of_hurricanes"
   ]
  },
  {
   "cell_type": "code",
   "execution_count": 26,
   "metadata": {},
   "outputs": [
    {
     "data": {
      "text/plain": [
       "10"
      ]
     },
     "execution_count": 26,
     "metadata": {},
     "output_type": "execute_result"
    }
   ],
   "source": [
    "#Number of years with at least 4 hurricanes formed\n",
    "years_with_4_hurricanes = []\n",
    "for i in range(project.count()):\n",
    "    year = get_year(project.get_formed(i))\n",
    "    if hurricanes_in_year(year) >= 4:\n",
    "        if year not in years_with_4_hurricanes:\n",
    "            years_with_4_hurricanes.append(year)\n",
    "len(years_with_4_hurricanes)"
   ]
  },
  {
   "cell_type": "code",
   "execution_count": null,
   "metadata": {},
   "outputs": [],
   "source": []
  }
 ],
 "metadata": {
  "kernelspec": {
   "display_name": "Python 3",
   "language": "python",
   "name": "python3"
  },
  "language_info": {
   "codemirror_mode": {
    "name": "ipython",
    "version": 3
   },
   "file_extension": ".py",
   "mimetype": "text/x-python",
   "name": "python",
   "nbconvert_exporter": "python",
   "pygments_lexer": "ipython3",
   "version": "3.7.4"
  }
 },
 "nbformat": 4,
 "nbformat_minor": 2
}
